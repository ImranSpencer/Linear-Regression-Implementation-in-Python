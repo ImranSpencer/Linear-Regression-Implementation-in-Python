{
 "cells": [
  {
   "cell_type": "code",
   "execution_count": 1,
   "metadata": {
    "collapsed": true
   },
   "outputs": [],
   "source": [
    "import numpy as np\n",
    "import matplotlib.pyplot as plt\n",
    "%matplotlib inline"
   ]
  },
  {
   "cell_type": "code",
   "execution_count": 6,
   "metadata": {},
   "outputs": [
    {
     "data": {
      "image/png": "[encoded data removed]",
      "text/plain": [
       "<matplotlib.figure.Figure at 0x111b28cc0>"
      ]
     },
     "metadata": {},
     "output_type": "display_data"
    }
   ],
   "source": [
    "np.random.seed(42)\n",
    "X = np.array(np.random.rand(50))\n",
    "Y = np.array(np.random.rand(50))\n",
    "\n",
    "plt.figure()\n",
    "plt.scatter(X, Y, color='black')\n",
    "plt.show()"
   ]
  },
  {
   "cell_type": "markdown",
   "metadata": {},
   "source": [
    "## Computing Regression Parameters \n",
    "## Approach 1: Set Gradient = 0 and Solve "
   ]
  },
  {
   "cell_type": "code",
   "execution_count": 3,
   "metadata": {
    "collapsed": true
   },
   "outputs": [],
   "source": [
    "# varibales we need to calculate \n",
    "N = X.shape[0]\n",
    "x_sum = X.sum()\n",
    "y_sum = Y.sum()\n",
    "xy_sum = (X*Y).sum()\n",
    "x2_sum = (np.square(X)).sum()"
   ]
  },
  {
   "cell_type": "code",
   "execution_count": 4,
   "metadata": {},
   "outputs": [
    {
     "name": "stdout",
     "output_type": "stream",
     "text": [
      "0.0660766492981\n"
     ]
    }
   ],
   "source": [
    "numerator = (xy_sum) - (1/N)*((x_sum) * (y_sum))\n",
    "denominator = (x2_sum) - (1/N)*((x_sum)*(x_sum))\n",
    "slope = numerator/denominator\n",
    "print(slope)"
   ]
  },
  {
   "cell_type": "code",
   "execution_count": 5,
   "metadata": {},
   "outputs": [
    {
     "name": "stdout",
     "output_type": "stream",
     "text": [
      "0.46497242492\n"
     ]
    }
   ],
   "source": [
    "intercept = y_sum/N - slope * (x_sum/N)\n",
    "print(intercept)"
   ]
  },
  {
   "cell_type": "code",
   "execution_count": 10,
   "metadata": {},
   "outputs": [
    {
     "data": {
      "image/png": "[encoded data removed]",
      "text/plain": [
       "<matplotlib.figure.Figure at 0x111b51978>"
      ]
     },
     "metadata": {},
     "output_type": "display_data"
    }
   ],
   "source": [
    "line = intercept + slope * X\n",
    "\n",
    "plt.scatter(X, Y, color='black')\n",
    "plt.plot(X, line, color='red')\n",
    "plt.show()"
   ]
  },
  {
   "cell_type": "markdown",
   "metadata": {},
   "source": [
    "## Approach 2: Gradient Descent"
   ]
  },
  {
   "cell_type": "code",
   "execution_count": 18,
   "metadata": {},
   "outputs": [
    {
     "name": "stdout",
     "output_type": "stream",
     "text": [
      "Converged at step =  229\n",
      "final slope =  0.0686711837081\n",
      "final intercept =  0.463731830333\n"
     ]
    }
   ],
   "source": [
    "\n",
    "initial_intercept = 0\n",
    "initial_slope = 0\n",
    "# change step_size to see the effect and how important picking the proper \n",
    "# step_size is. Try something bigger or smaller.\n",
    "step_size = 0.005\n",
    "tolerance = 0.01\n",
    "\n",
    "magnitude = 1\n",
    "slope = initial_slope\n",
    "intercept = initial_intercept\n",
    "step = 0\n",
    "\n",
    "for i in range(1,500):\n",
    "    if magnitude <= tolerance:\n",
    "        break\n",
    "    else:\n",
    "        y_hat = intercept + slope * X\n",
    "        \n",
    "    # check and update the Intercept (w0)\n",
    "    s_error = y_hat - Y\n",
    "    s_sum = np.sum(s_error)\n",
    "    s_adjustment = step_size * s_sum\n",
    "    new_intercept = intercept - s_adjustment\n",
    "    \n",
    "    # Check and update the slop (w1)\n",
    "    i_error = (y_hat - Y) * X\n",
    "    i_sum = np.sum(i_error)\n",
    "    i_adjustment = step_size * i_sum\n",
    "    new_slope = slope - i_adjustment\n",
    "    \n",
    "    slope = new_slope\n",
    "    intercept = new_intercept\n",
    "    \n",
    "    line = intercept + slope * X\n",
    "    magnitude = np.sqrt((i_sum**2) + (s_sum)**2)\n",
    "    \n",
    "    # Plot to see how the line changes\n",
    "    \n",
    "    step = i\n",
    "# uncomment if you want to see changes graphically \n",
    "#     title = 'Step' + str(i) + ', intercerpt: ' + str(intercept)\n",
    "#     plt.figure\n",
    "#     plt.title(title)\n",
    "#     plt.scatter(X,Y, color='black')\n",
    "#     plt.plot(X, line, color='red')\n",
    "#     plt.show()\n",
    "\n",
    "print('Converged at step = ', step)\n",
    "print('final slope = ', slope)\n",
    "print('final intercept = ', intercept)\n"
   ]
  },
  {
   "cell_type": "code",
   "execution_count": 19,
   "metadata": {},
   "outputs": [
    {
     "data": {
      "image/png": "[encoded data removed]",
      "text/plain": [
       "<matplotlib.figure.Figure at 0x111e64eb8>"
      ]
     },
     "metadata": {},
     "output_type": "display_data"
    }
   ],
   "source": [
    "title = 'Step' + str(i)\n",
    "plt.figure\n",
    "plt.title(title)\n",
    "plt.scatter(X,Y, color='black')\n",
    "plt.plot(X, line, color='red')\n",
    "plt.show()"
   ]
  },
  {
   "cell_type": "code",
   "execution_count": null,
   "metadata": {
    "collapsed": true
   },
   "outputs": [],
   "source": []
  }
 ],
 "metadata": {
  "kernelspec": {
   "display_name": "Python [Root]",
   "language": "python",
   "name": "Python [Root]"
  },
  "language_info": {
   "codemirror_mode": {
    "name": "ipython",
    "version": 3
   },
   "file_extension": ".py",
   "mimetype": "text/x-python",
   "name": "python",
   "nbconvert_exporter": "python",
   "pygments_lexer": "ipython3",
   "version": "3.5.2"
  }
 },
 "nbformat": 4,
 "nbformat_minor": 2
}
